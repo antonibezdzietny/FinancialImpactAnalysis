{
 "cells": [
  {
   "cell_type": "code",
   "execution_count": 53,
   "metadata": {},
   "outputs": [],
   "source": [
    "import numpy as np\n",
    "import pandas as pd\n",
    "from scripts import  CompanyStockPriceScraper, IndexStockPriceScraper"
   ]
  },
  {
   "cell_type": "markdown",
   "metadata": {},
   "source": [
    "## WIG ODZIEZ \n",
    "W tym notatniki realizowana jest analiza spółek należących tylko i wyłącznie do sektora WIG_ODZIEŻ:\n",
    "- CCC\n",
    "- CDL\n",
    "- EAH\n",
    "- HRP\n",
    "- IPO\n",
    "- LBW\n",
    "- LPP\n",
    "- MIR\n",
    "- MON\n",
    "- PRT\n",
    "- SFG\n",
    "- SNW\n",
    "- WTN"
   ]
  },
  {
   "cell_type": "code",
   "execution_count": 73,
   "metadata": {},
   "outputs": [
    {
     "name": "stderr",
     "output_type": "stream",
     "text": [
      "$WIG_POLAND.WA: possibly delisted; no timezone found\n"
     ]
    },
    {
     "ename": "KeyError",
     "evalue": "'Close'",
     "output_type": "error",
     "traceback": [
      "\u001b[0;31m---------------------------------------------------------------------------\u001b[0m",
      "\u001b[0;31mKeyError\u001b[0m                                  Traceback (most recent call last)",
      "Cell \u001b[0;32mIn[73], line 98\u001b[0m\n\u001b[1;32m     90\u001b[0m         \u001b[38;5;28;01mreturn\u001b[39;00m errors\u001b[38;5;241m.\u001b[39mT\n\u001b[1;32m     97\u001b[0m fms \u001b[38;5;241m=\u001b[39m ForecastModelSelector()\n\u001b[0;32m---> 98\u001b[0m z \u001b[38;5;241m=\u001b[39m \u001b[43mfms\u001b[49m\u001b[38;5;241;43m.\u001b[39;49m\u001b[43mfoo\u001b[49m\u001b[43m(\u001b[49m\u001b[38;5;124;43m\"\u001b[39;49m\u001b[38;5;124;43mCCC\u001b[39;49m\u001b[38;5;124;43m\"\u001b[39;49m\u001b[43m,\u001b[49m\u001b[43m \u001b[49m\u001b[43mx\u001b[49m\u001b[43m)\u001b[49m\n\u001b[1;32m     99\u001b[0m z\u001b[38;5;241m.\u001b[39mshape\n",
      "Cell \u001b[0;32mIn[73], line 87\u001b[0m, in \u001b[0;36mForecastModelSelector.foo\u001b[0;34m(self, ticker, reports_date)\u001b[0m\n\u001b[1;32m     85\u001b[0m \u001b[38;5;28;01mfor\u001b[39;00m i \u001b[38;5;129;01min\u001b[39;00m \u001b[38;5;28mrange\u001b[39m(begin_idx, end_idx\u001b[38;5;241m-\u001b[39m\u001b[38;5;241m1\u001b[39m):\n\u001b[1;32m     86\u001b[0m     pivot_date \u001b[38;5;241m=\u001b[39m \u001b[38;5;28mself\u001b[39m\u001b[38;5;241m.\u001b[39m__calculatePivotDate(reports_date[i], reports_date[i\u001b[38;5;241m+\u001b[39m\u001b[38;5;241m1\u001b[39m])\n\u001b[0;32m---> 87\u001b[0m     errors \u001b[38;5;241m=\u001b[39m np\u001b[38;5;241m.\u001b[39mhstack([errors, \u001b[38;5;28;43mself\u001b[39;49m\u001b[38;5;241;43m.\u001b[39;49m\u001b[43m__designationError\u001b[49m\u001b[43m(\u001b[49m\u001b[43mticker\u001b[49m\u001b[43m,\u001b[49m\u001b[43m \u001b[49m\u001b[43mpivot_date\u001b[49m\u001b[43m,\u001b[49m\u001b[43m \u001b[49m\n\u001b[1;32m     88\u001b[0m \u001b[43m                                                        \u001b[49m\u001b[43mForecastModelSelector\u001b[49m\u001b[38;5;241;43m.\u001b[39;49m\u001b[43mModelType\u001b[49m\u001b[38;5;241;43m.\u001b[39;49m\u001b[43mPOLAND\u001b[49m\u001b[43m)\u001b[49m])\n\u001b[1;32m     90\u001b[0m \u001b[38;5;28;01mreturn\u001b[39;00m errors\u001b[38;5;241m.\u001b[39mT\n",
      "Cell \u001b[0;32mIn[73], line 23\u001b[0m, in \u001b[0;36mForecastModelSelector.__designationError\u001b[0;34m(self, ticker, pivot_date, model_type)\u001b[0m\n\u001b[1;32m     22\u001b[0m \u001b[38;5;28;01mdef\u001b[39;00m \u001b[38;5;21m__designationError\u001b[39m(\u001b[38;5;28mself\u001b[39m, ticker: \u001b[38;5;28mstr\u001b[39m, pivot_date: np\u001b[38;5;241m.\u001b[39mdatetime64, model_type: ModelType) \u001b[38;5;241m-\u001b[39m\u001b[38;5;241m>\u001b[39m np\u001b[38;5;241m.\u001b[39mndarray:\n\u001b[0;32m---> 23\u001b[0m     samples \u001b[38;5;241m=\u001b[39m \u001b[38;5;28;43mself\u001b[39;49m\u001b[38;5;241;43m.\u001b[39;49m\u001b[43m__getSamples\u001b[49m\u001b[43m(\u001b[49m\u001b[43mticker\u001b[49m\u001b[43m,\u001b[49m\u001b[43m \u001b[49m\u001b[43mpivot_date\u001b[49m\u001b[43m,\u001b[49m\u001b[43m \u001b[49m\u001b[43mmodel_type\u001b[49m\u001b[43m)\u001b[49m\n\u001b[1;32m     24\u001b[0m     \u001b[38;5;28mself\u001b[39m\u001b[38;5;241m.\u001b[39m_lr\u001b[38;5;241m.\u001b[39mfit(samples[\u001b[38;5;124m\"\u001b[39m\u001b[38;5;124mx_before\u001b[39m\u001b[38;5;124m\"\u001b[39m], samples[\u001b[38;5;124m\"\u001b[39m\u001b[38;5;124my_before\u001b[39m\u001b[38;5;124m\"\u001b[39m])\n\u001b[1;32m     26\u001b[0m     y_before_pred \u001b[38;5;241m=\u001b[39m \u001b[38;5;28mself\u001b[39m\u001b[38;5;241m.\u001b[39m_lr\u001b[38;5;241m.\u001b[39mpredict(samples[\u001b[38;5;124m\"\u001b[39m\u001b[38;5;124mx_before\u001b[39m\u001b[38;5;124m\"\u001b[39m])\n",
      "Cell \u001b[0;32mIn[73], line 44\u001b[0m, in \u001b[0;36mForecastModelSelector.__getSamples\u001b[0;34m(self, ticker, pivot_date, model_type)\u001b[0m\n\u001b[1;32m     42\u001b[0m \u001b[38;5;28;01mcase\u001b[39;00m ForecastModelSelector\u001b[38;5;241m.\u001b[39mModelType\u001b[38;5;241m.\u001b[39mPOLAND:\n\u001b[1;32m     43\u001b[0m     samples[\u001b[38;5;124m\"\u001b[39m\u001b[38;5;124mx_before\u001b[39m\u001b[38;5;124m\"\u001b[39m] \u001b[38;5;241m=\u001b[39m \u001b[38;5;28mself\u001b[39m\u001b[38;5;241m.\u001b[39m_isp\u001b[38;5;241m.\u001b[39mgetNHistoricalPriceBefore(\u001b[38;5;124m\"\u001b[39m\u001b[38;5;124mWIG_POLAND\u001b[39m\u001b[38;5;124m\"\u001b[39m, pivot_date, \u001b[38;5;241m0\u001b[39m, \u001b[38;5;28mself\u001b[39m\u001b[38;5;241m.\u001b[39m__N_DAYS)[\u001b[38;5;124m\"\u001b[39m\u001b[38;5;124mClose\u001b[39m\u001b[38;5;124m\"\u001b[39m]\u001b[38;5;241m.\u001b[39mto_numpy()\u001b[38;5;241m.\u001b[39mreshape(\u001b[38;5;241m-\u001b[39m\u001b[38;5;241m1\u001b[39m,\u001b[38;5;241m1\u001b[39m)\n\u001b[0;32m---> 44\u001b[0m     samples[\u001b[38;5;124m\"\u001b[39m\u001b[38;5;124my_before\u001b[39m\u001b[38;5;124m\"\u001b[39m] \u001b[38;5;241m=\u001b[39m \u001b[38;5;28;43mself\u001b[39;49m\u001b[38;5;241;43m.\u001b[39;49m\u001b[43m_csp\u001b[49m\u001b[38;5;241;43m.\u001b[39;49m\u001b[43mgetNHistoricalPriceBefore\u001b[49m\u001b[43m(\u001b[49m\u001b[38;5;124;43m\"\u001b[39;49m\u001b[38;5;124;43mWIG_POLAND\u001b[39;49m\u001b[38;5;124;43m\"\u001b[39;49m\u001b[43m,\u001b[49m\u001b[43m \u001b[49m\u001b[43mpivot_date\u001b[49m\u001b[43m,\u001b[49m\u001b[43m \u001b[49m\u001b[38;5;241;43m0\u001b[39;49m\u001b[43m,\u001b[49m\u001b[43m \u001b[49m\u001b[38;5;28;43mself\u001b[39;49m\u001b[38;5;241;43m.\u001b[39;49m\u001b[43m__N_DAYS\u001b[49m\u001b[43m)\u001b[49m\u001b[43m[\u001b[49m\u001b[38;5;124;43m\"\u001b[39;49m\u001b[38;5;124;43mClose\u001b[39;49m\u001b[38;5;124;43m\"\u001b[39;49m\u001b[43m]\u001b[49m\u001b[38;5;241m.\u001b[39mto_numpy()\u001b[38;5;241m.\u001b[39mreshape(\u001b[38;5;241m-\u001b[39m\u001b[38;5;241m1\u001b[39m,\u001b[38;5;241m1\u001b[39m)\n\u001b[1;32m     45\u001b[0m     samples[\u001b[38;5;124m\"\u001b[39m\u001b[38;5;124mx_after\u001b[39m\u001b[38;5;124m\"\u001b[39m]  \u001b[38;5;241m=\u001b[39m \u001b[38;5;28mself\u001b[39m\u001b[38;5;241m.\u001b[39m_isp\u001b[38;5;241m.\u001b[39mgetNHistoricalPriceAfter(\u001b[38;5;124m\"\u001b[39m\u001b[38;5;124mWIG_POLAND\u001b[39m\u001b[38;5;124m\"\u001b[39m, pivot_date, \u001b[38;5;241m0\u001b[39m, \u001b[38;5;28mself\u001b[39m\u001b[38;5;241m.\u001b[39m__N_DAYS)[\u001b[38;5;124m\"\u001b[39m\u001b[38;5;124mClose\u001b[39m\u001b[38;5;124m\"\u001b[39m]\u001b[38;5;241m.\u001b[39mto_numpy()\u001b[38;5;241m.\u001b[39mreshape(\u001b[38;5;241m-\u001b[39m\u001b[38;5;241m1\u001b[39m,\u001b[38;5;241m1\u001b[39m)\n\u001b[1;32m     46\u001b[0m     samples[\u001b[38;5;124m\"\u001b[39m\u001b[38;5;124my_after\u001b[39m\u001b[38;5;124m\"\u001b[39m]  \u001b[38;5;241m=\u001b[39m \u001b[38;5;28mself\u001b[39m\u001b[38;5;241m.\u001b[39m_csp\u001b[38;5;241m.\u001b[39mgetNHistoricalPriceAfter(\u001b[38;5;124m\"\u001b[39m\u001b[38;5;124mWIG_POLAND\u001b[39m\u001b[38;5;124m\"\u001b[39m, pivot_date, \u001b[38;5;241m0\u001b[39m, \u001b[38;5;28mself\u001b[39m\u001b[38;5;241m.\u001b[39m__N_DAYS)[\u001b[38;5;124m\"\u001b[39m\u001b[38;5;124mClose\u001b[39m\u001b[38;5;124m\"\u001b[39m]\u001b[38;5;241m.\u001b[39mto_numpy()\u001b[38;5;241m.\u001b[39mreshape(\u001b[38;5;241m-\u001b[39m\u001b[38;5;241m1\u001b[39m,\u001b[38;5;241m1\u001b[39m)\n",
      "File \u001b[0;32m~/Dokumenty/StudiaZDM/FinancialImpactAnalysis/venv/lib/python3.12/site-packages/pandas/core/frame.py:4102\u001b[0m, in \u001b[0;36mDataFrame.__getitem__\u001b[0;34m(self, key)\u001b[0m\n\u001b[1;32m   4100\u001b[0m \u001b[38;5;28;01mif\u001b[39;00m \u001b[38;5;28mself\u001b[39m\u001b[38;5;241m.\u001b[39mcolumns\u001b[38;5;241m.\u001b[39mnlevels \u001b[38;5;241m>\u001b[39m \u001b[38;5;241m1\u001b[39m:\n\u001b[1;32m   4101\u001b[0m     \u001b[38;5;28;01mreturn\u001b[39;00m \u001b[38;5;28mself\u001b[39m\u001b[38;5;241m.\u001b[39m_getitem_multilevel(key)\n\u001b[0;32m-> 4102\u001b[0m indexer \u001b[38;5;241m=\u001b[39m \u001b[38;5;28;43mself\u001b[39;49m\u001b[38;5;241;43m.\u001b[39;49m\u001b[43mcolumns\u001b[49m\u001b[38;5;241;43m.\u001b[39;49m\u001b[43mget_loc\u001b[49m\u001b[43m(\u001b[49m\u001b[43mkey\u001b[49m\u001b[43m)\u001b[49m\n\u001b[1;32m   4103\u001b[0m \u001b[38;5;28;01mif\u001b[39;00m is_integer(indexer):\n\u001b[1;32m   4104\u001b[0m     indexer \u001b[38;5;241m=\u001b[39m [indexer]\n",
      "File \u001b[0;32m~/Dokumenty/StudiaZDM/FinancialImpactAnalysis/venv/lib/python3.12/site-packages/pandas/core/indexes/range.py:417\u001b[0m, in \u001b[0;36mRangeIndex.get_loc\u001b[0;34m(self, key)\u001b[0m\n\u001b[1;32m    415\u001b[0m         \u001b[38;5;28;01mraise\u001b[39;00m \u001b[38;5;167;01mKeyError\u001b[39;00m(key) \u001b[38;5;28;01mfrom\u001b[39;00m \u001b[38;5;21;01merr\u001b[39;00m\n\u001b[1;32m    416\u001b[0m \u001b[38;5;28;01mif\u001b[39;00m \u001b[38;5;28misinstance\u001b[39m(key, Hashable):\n\u001b[0;32m--> 417\u001b[0m     \u001b[38;5;28;01mraise\u001b[39;00m \u001b[38;5;167;01mKeyError\u001b[39;00m(key)\n\u001b[1;32m    418\u001b[0m \u001b[38;5;28mself\u001b[39m\u001b[38;5;241m.\u001b[39m_check_indexing_error(key)\n\u001b[1;32m    419\u001b[0m \u001b[38;5;28;01mraise\u001b[39;00m \u001b[38;5;167;01mKeyError\u001b[39;00m(key)\n",
      "\u001b[0;31mKeyError\u001b[0m: 'Close'"
     ]
    }
   ],
   "source": [
    "from sklearn.linear_model import LinearRegression\n",
    "from enum import Enum\n",
    "\n",
    "class ForecastModelSelector:\n",
    "    \"\"\"\n",
    "    Class compare three models in linear regression \n",
    "    1. Model base on WIG_SECTOR\n",
    "    2. Model base on WIG_POLAND\n",
    "    3. Model base on WIG_SECTOR and WIG_POLAND\n",
    "    \"\"\"\n",
    "    class ModelType(Enum):\n",
    "        SECTOR = 1,\n",
    "        POLAND = 2,\n",
    "        SEC_AND_POL = 3,\n",
    "\n",
    "    def __init__(self) -> None:\n",
    "        self.__N_DAYS = 30\n",
    "        self._isp = IndexStockPriceScraper()\n",
    "        self._csp = CompanyStockPriceScraper()\n",
    "        self._lr= LinearRegression(n_jobs=-1)\n",
    "\n",
    "    def __designationError(self, ticker: str, pivot_date: np.datetime64, model_type: ModelType) -> np.ndarray:\n",
    "        samples = self.__getSamples(ticker, pivot_date, model_type)\n",
    "        self._lr.fit(samples[\"x_before\"], samples[\"y_before\"])\n",
    "\n",
    "        y_before_pred = self._lr.predict(samples[\"x_before\"])\n",
    "        y_after_pred = self._lr.predict(samples[\"x_after\"])\n",
    "\n",
    "        y_pred = np.concat([y_before_pred, y_after_pred])\n",
    "        y_true = np.concat([samples[\"y_before\"], samples[\"y_after\"]])\n",
    "        \n",
    "        return np.abs(y_pred - y_true) / y_true * 100\n",
    "    \n",
    "    def __getSamples(self, ticker: str, pivot_date: np.datetime64, model_type: ModelType) -> dict:\n",
    "        samples = dict()\n",
    "        match model_type:\n",
    "            case ForecastModelSelector.ModelType.SECTOR:\n",
    "                samples[\"x_before\"] = self._isp.getNHistoricalPriceBefore(ticker, pivot_date, 0, self.__N_DAYS)[\"Close\"].to_numpy().reshape(-1,1)\n",
    "                samples[\"y_before\"] = self._csp.getNHistoricalPriceBefore(ticker, pivot_date, 0, self.__N_DAYS)[\"Close\"].to_numpy().reshape(-1,1)\n",
    "                samples[\"x_after\"]  = self._isp.getNHistoricalPriceAfter(ticker, pivot_date, 0, self.__N_DAYS)[\"Close\"].to_numpy().reshape(-1,1)\n",
    "                samples[\"y_after\"]  = self._csp.getNHistoricalPriceAfter(ticker, pivot_date, 0, self.__N_DAYS)[\"Close\"].to_numpy().reshape(-1,1)\n",
    "            case ForecastModelSelector.ModelType.POLAND:\n",
    "                samples[\"x_before\"] = self._isp.getNHistoricalPriceBefore(\"WIG_POLAND\", pivot_date, 0, self.__N_DAYS)[\"Close\"].to_numpy().reshape(-1,1)\n",
    "                samples[\"y_before\"] = self._csp.getNHistoricalPriceBefore(\"WIG_POLAND\", pivot_date, 0, self.__N_DAYS)[\"Close\"].to_numpy().reshape(-1,1)\n",
    "                samples[\"x_after\"]  = self._isp.getNHistoricalPriceAfter(\"WIG_POLAND\", pivot_date, 0, self.__N_DAYS)[\"Close\"].to_numpy().reshape(-1,1)\n",
    "                samples[\"y_after\"]  = self._csp.getNHistoricalPriceAfter(\"WIG_POLAND\", pivot_date, 0, self.__N_DAYS)[\"Close\"].to_numpy().reshape(-1,1)\n",
    "            case ForecastModelSelector.ModelType.SEC_AND_POL:\n",
    "                samples[\"x_before\"] = np.hstack([self._isp.getNHistoricalPriceBefore(ticker, pivot_date, 0, self.__N_DAYS)[\"Close\"].to_numpy().reshape(-1,1),\n",
    "                                                 self._isp.getNHistoricalPriceBefore(\"WIG_POLAND\", pivot_date, 0, self.__N_DAYS)[\"Close\"].to_numpy().reshape(-1,1)])\n",
    "                samples[\"y_before\"] = np.hstack([self._csp.getNHistoricalPriceBefore(ticker, pivot_date, 0, self.__N_DAYS)[\"Close\"].to_numpy().reshape(-1,1),\n",
    "                                                 self._csp.getNHistoricalPriceBefore(\"WIG_POLAND\", pivot_date, 0, self.__N_DAYS)[\"Close\"].to_numpy().reshape(-1,1)])\n",
    "                samples[\"x_after\"]  = np.hstack([self._isp.getNHistoricalPriceAfter(ticker, pivot_date, 0, self.__N_DAYS)[\"Close\"].to_numpy().reshape(-1,1),\n",
    "                                                 self._isp.getNHistoricalPriceAfter(\"WIG_POLAND\", pivot_date, 0, self.__N_DAYS)[\"Close\"].to_numpy().reshape(-1,1)])\n",
    "                samples[\"y_after\"]  = np.hstack([self._csp.getNHistoricalPriceAfter(ticker, pivot_date, 0, self.__N_DAYS)[\"Close\"].to_numpy().reshape(-1,1),\n",
    "                                                 self._csp.getNHistoricalPriceAfter(\"WIG_POLAND\", pivot_date, 0, self.__N_DAYS)[\"Close\"].to_numpy().reshape(-1,1)])\n",
    "        return samples\n",
    "\n",
    "    def __calculatePivotDate(self, d1: np.datetime64, d2: np.datetime64) -> np.datetime64:\n",
    "        pivot_day_not_checking = d1 + (d2 - d1) / 2\n",
    "        # Check is a stock market day\n",
    "        wig_poland = self._isp.getHistoricalPrice(\"WIG_POLAND\")\n",
    "        pivot_day = wig_poland.index[np.sum(wig_poland.index <= pivot_day_not_checking)]\n",
    "        return pivot_day\n",
    "\n",
    "    def getJoinDateRange(self, ticker : str) -> list[np.datetime64]:\n",
    "        wig_poland = self._isp.getHistoricalPrice(\"WIG_POLAND\")\n",
    "        wig_sector = self._isp.getHistoricalPrice(ticker)\n",
    "        company    = self._csp.getHistoricalPrice(ticker)\n",
    "        # Find first join date\n",
    "        first_join_date = np.max([wig_poland.head(1).index[0], \n",
    "                                  wig_sector.head(1).index[0], \n",
    "                                  company.head(1).index[0]])\n",
    "        # Find last join date\n",
    "        last_join_date = np.max([wig_poland.tail(1).index[0], \n",
    "                                 wig_sector.tail(1).index[0], \n",
    "                                 company.tail(1).index[0]])\n",
    "        return [first_join_date, last_join_date]\n",
    "\n",
    "    def foo(self, ticker: str, reports_date: np.ndarray[np.datetime64]):\n",
    "        stock_date_range = self.getJoinDateRange(ticker)\n",
    "        begin_idx = np.sum(reports_date < stock_date_range[0])\n",
    "        end_idx   = np.sum(reports_date < stock_date_range[1])\n",
    "\n",
    "        errors = np.array([], dtype=np.int64).reshape(self.__N_DAYS*2,0)\n",
    "        for i in range(begin_idx, end_idx-1):\n",
    "            pivot_date = self.__calculatePivotDate(reports_date[i], reports_date[i+1])\n",
    "            errors = np.hstack([errors, self.__designationError(ticker, pivot_date, \n",
    "                                                                ForecastModelSelector.ModelType.POLAND)])\n",
    "\n",
    "        return errors.T\n",
    "\n",
    "        \n",
    "    \n",
    "\n",
    "\n",
    "    \n",
    "fms = ForecastModelSelector()\n",
    "z = fms.foo(\"CCC\", x)\n",
    "z.shape"
   ]
  },
  {
   "cell_type": "code",
   "execution_count": 71,
   "metadata": {},
   "outputs": [
    {
     "data": {
      "text/plain": [
       "array([1.88037029, 0.53530109, 2.07340834, 1.73916714, 1.05566863,\n",
       "       1.13342065, 1.55881749, 1.3671797 , 0.80650032, 1.20934667,\n",
       "       1.6850066 , 3.21910616, 3.22539923, 1.44412879, 0.93257898,\n",
       "       1.49009616, 1.09760117, 0.75327333, 1.7871999 , 1.39432187,\n",
       "       1.16181468, 1.21339496, 2.64085239, 2.87779064, 1.28701956,\n",
       "       1.29249735, 0.83205288, 1.30722216, 1.84587751, 1.75983664,\n",
       "       1.75983664, 2.27566192, 2.36757618, 3.94228212, 3.5175662 ,\n",
       "       3.39612377, 3.21562799, 3.80538723, 4.33920751, 5.93698543,\n",
       "       7.42506369, 6.6391338 , 7.01536002, 7.67745279, 9.81351072,\n",
       "       9.44181797, 5.58153265, 5.26046546, 5.43995424, 5.17996943,\n",
       "       3.16749129, 3.6557006 , 4.87953134, 5.02296248, 3.16926606,\n",
       "       4.58919837, 6.04192462, 6.25108977, 6.51853146, 6.7574897 ])"
      ]
     },
     "execution_count": 71,
     "metadata": {},
     "output_type": "execute_result"
    }
   ],
   "source": [
    "z.std(axis=0)"
   ]
  },
  {
   "cell_type": "code",
   "execution_count": 3,
   "metadata": {},
   "outputs": [],
   "source": [
    "tickers_wig_odziez = [\"CCC\",\"CDL\",\"EAH\",\"HRP\",\"IPO\",\"LBW\",\"LPP\",\"MIR\",\"MON\",\"PRT\",\"SFG\",\"SNW\",\"WTN\"]\n",
    "\n"
   ]
  },
  {
   "cell_type": "code",
   "execution_count": 39,
   "metadata": {},
   "outputs": [],
   "source": [
    "report_database = pd.read_csv(\"../database/mergedData/Annual_V.csv\", index_col=[0])\n",
    "\n",
    "x = np.array(list(map(lambda x : np.datetime64(x), report_database[report_database[\"Ticker\"] == \"CCC\"][\"Data\"].to_numpy())))"
   ]
  },
  {
   "cell_type": "code",
   "execution_count": 40,
   "metadata": {},
   "outputs": [
    {
     "data": {
      "text/plain": [
       "array(['2005-10-03', '2006-05-15', '2007-06-05', '2008-04-30',\n",
       "       '2009-04-30', '2010-04-30', '2011-04-22', '2012-04-27',\n",
       "       '2013-04-30', '2014-04-30', '2015-04-30', '2016-04-29',\n",
       "       '2017-04-28', '2018-03-26', '2019-03-14', '2020-03-06',\n",
       "       '2021-05-18', '2022-04-20', '2023-04-17'], dtype='datetime64[D]')"
      ]
     },
     "execution_count": 40,
     "metadata": {},
     "output_type": "execute_result"
    }
   ],
   "source": [
    "x"
   ]
  },
  {
   "cell_type": "code",
   "execution_count": 102,
   "metadata": {},
   "outputs": [
    {
     "data": {
      "text/plain": [
       "array([10, 20, 10, 20])"
      ]
     },
     "execution_count": 102,
     "metadata": {},
     "output_type": "execute_result"
    }
   ],
   "source": [
    "z = np.array([10,20])\n",
    "y = np.array([10,20])\n",
    "np.concat([z,y])"
   ]
  }
 ],
 "metadata": {
  "kernelspec": {
   "display_name": "venv",
   "language": "python",
   "name": "python3"
  },
  "language_info": {
   "codemirror_mode": {
    "name": "ipython",
    "version": 3
   },
   "file_extension": ".py",
   "mimetype": "text/x-python",
   "name": "python",
   "nbconvert_exporter": "python",
   "pygments_lexer": "ipython3",
   "version": "3.12.3"
  }
 },
 "nbformat": 4,
 "nbformat_minor": 2
}
