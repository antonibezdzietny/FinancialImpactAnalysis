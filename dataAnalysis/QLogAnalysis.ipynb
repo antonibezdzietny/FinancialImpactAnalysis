{
 "cells": [
  {
   "cell_type": "code",
   "execution_count": 2,
   "metadata": {},
   "outputs": [],
   "source": [
    "import pandas as pd\n",
    "import numpy as np"
   ]
  },
  {
   "cell_type": "code",
   "execution_count": 7,
   "metadata": {},
   "outputs": [],
   "source": [
    "report_value  = pd.read_csv(\"../database/mergedData/Annual_V.csv\", index_col=[0])\n",
    "avr_daily_ret = pd.read_csv(\"../database/mergedData/Annual_AVG_RET.csv\", index_col=[0])\n",
    "database = pd.concat([report_value, avr_daily_ret], axis=1, join=\"inner\") \n",
    "database = database.dropna()"
   ]
  }
 ],
 "metadata": {
  "kernelspec": {
   "display_name": "venv",
   "language": "python",
   "name": "python3"
  },
  "language_info": {
   "codemirror_mode": {
    "name": "ipython",
    "version": 3
   },
   "file_extension": ".py",
   "mimetype": "text/x-python",
   "name": "python",
   "nbconvert_exporter": "python",
   "pygments_lexer": "ipython3",
   "version": "3.10.12"
  }
 },
 "nbformat": 4,
 "nbformat_minor": 2
}
