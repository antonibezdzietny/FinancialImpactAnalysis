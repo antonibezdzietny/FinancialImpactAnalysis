{
 "cells": [
  {
   "cell_type": "code",
   "execution_count": 1,
   "metadata": {},
   "outputs": [],
   "source": [
    "import numpy as np\n",
    "import pandas as pd\n",
    "import matplotlib.pyplot as plt\n",
    "from scripts import  CompanyStockPriceScraper\n",
    "from scripts import ADXIndex\n",
    "from scipy.signal import find_peaks"
   ]
  },
  {
   "cell_type": "markdown",
   "metadata": {},
   "source": [
    "## Select interesting examples\n",
    "\n",
    "Interesting examples are those where: \n",
    "- there is a peak in the ADX index close to the day of publication,\n",
    "- there is a low ADX index value over an extended period before and after the publication date. "
   ]
  },
  {
   "cell_type": "code",
   "execution_count": 2,
   "metadata": {},
   "outputs": [],
   "source": [
    "# Analysis company list \n",
    "tickers = [\"CCC\",\"CDL\",\"EAH\",\"HRP\",\"IPO\",\"LBW\",\"LPP\",\"MIR\",\"MON\",\"PRT\",\"SFG\",\"SNW\",\"WTN\"] # WIG_ODZIEZ\n",
    "ticker = \"CCC\""
   ]
  },
  {
   "cell_type": "code",
   "execution_count": 3,
   "metadata": {},
   "outputs": [],
   "source": [
    "# Scrap stock value and calculate ADX index\n",
    "csp = CompanyStockPriceScraper()\n",
    "adx = ADXIndex()\n",
    "stock_value = csp.getHistoricalPrice(ticker)\n",
    "adx_index = adx.cast_to_data_frame(adx.get_index(stock_value))\n",
    "stock_value = pd.concat([stock_value, adx_index], axis=1, join=\"inner\")"
   ]
  },
  {
   "cell_type": "code",
   "execution_count": 4,
   "metadata": {},
   "outputs": [],
   "source": [
    "# Get date of report publication\n",
    "report_database = pd.read_csv(\"../database/mergedData/Annual_V.csv\", index_col=[0])\n",
    "report_days = report_database[report_database[\"Ticker\"] == ticker][\"Data\"].to_numpy()"
   ]
  },
  {
   "cell_type": "code",
   "execution_count": 5,
   "metadata": {},
   "outputs": [],
   "source": [
    "# Find inner index day\n",
    "inner_index_day = np.array([np.sum(stock_value.index < report_day) for report_day in report_days])\n",
    "inner_index_day = inner_index_day[inner_index_day != 0]"
   ]
  },
  {
   "cell_type": "code",
   "execution_count": 6,
   "metadata": {},
   "outputs": [],
   "source": [
    "STRONG_TRENDS_RANGE = 10 # +/- days from publication date\n",
    "DETECT_TRENDS_VALUE = 40 # Value ADX bigger than interpret as strong trends"
   ]
  },
  {
   "cell_type": "code",
   "execution_count": 7,
   "metadata": {},
   "outputs": [
    {
     "name": "stdout",
     "output_type": "stream",
     "text": [
      "Not Important\n",
      "-------\n",
      "Important\n",
      "-2\n",
      "-------\n",
      "Not Important\n",
      "-------\n",
      "Not Important\n",
      "-------\n",
      "Not Important\n",
      "-------\n",
      "Not Important\n",
      "-------\n",
      "Not Important\n",
      "-------\n",
      "Not Important\n",
      "-------\n",
      "Not Important\n",
      "-------\n",
      "Not Important\n",
      "-------\n",
      "Not Important\n",
      "-------\n",
      "Not Important\n",
      "-------\n",
      "Not Important\n",
      "-------\n",
      "Not Important\n",
      "-------\n",
      "Not Important\n",
      "-------\n",
      "Important\n",
      "9\n",
      "-------\n",
      "Not Important\n",
      "-------\n",
      "Not Important\n",
      "-------\n",
      "Important\n",
      "6\n",
      "-------\n"
     ]
    }
   ],
   "source": [
    "# Check is in report publication day surroundings strong trends\n",
    "# Strong trends ADX > 40 if ADX periods = 14\n",
    "peak_threshold = stock_value[\"ADX\"].mean() + stock_value[\"ADX\"].std()\n",
    "\n",
    "for report_day_idx in inner_index_day:\n",
    "    if any(stock_value[report_day_idx-STRONG_TRENDS_RANGE:\n",
    "                       report_day_idx+STRONG_TRENDS_RANGE+1][\"ADX\"] > DETECT_TRENDS_VALUE):\n",
    "        \n",
    "        # Find distance date report - ADX peak \n",
    "        peaks_idx, _ = find_peaks(stock_value[\"ADX\"], height=DETECT_TRENDS_VALUE, distance=STRONG_TRENDS_RANGE)\n",
    "        distance = peaks_idx[np.abs(report_day_idx - peaks_idx).argmin()] - report_day_idx\n",
    "        print(\"Important\")\n",
    "        print(distance)\n",
    "        print(\"-------\")\n",
    "    else:\n",
    "        print(\"Not Important\")\n",
    "        print(\"-------\")\n",
    "        "
   ]
  },
  {
   "cell_type": "markdown",
   "metadata": {},
   "source": [
    "# ADX\n",
    "\n",
    "Wskaźnik ADX (Average Directional Index) jest narzędziem analizy technicznej służącym do pomiaru siły trendu, niezależnie od jego kierunku. Nie wskazuje on, czy trend jest wzrostowy, czy spadkowy, ale pokazuje, jak silny jest obecny ruch rynkowy. ADX składa się z trzech głównych komponentów:\n",
    "\n",
    "1. ADX – mierzy siłę trendu.\n",
    "2. +DI (Positive Directional Indicator) – mierzy siłę trendu wzrostowego.\n",
    "3. −DI (Negative Directional Indicator) – mierzy siłę trendu spadkowego.\n",
    "\n",
    "Wartości te są wyrażane w przedziale od 0 do 100. Wyższe wartości ADX oznaczają silniejszy trend, natomiast niższe – słabszy.\n",
    "\n",
    "\n",
    "### Interpretacja wskaźnika ADX\n",
    "\n",
    "- ADX poniżej 20: Wskazuje na słaby lub brak trendu (rynek konsolidacyjny).\n",
    "- ADX pomiędzy 20 a 40: Średnia siła trendu. Ruch rynkowy zaczyna się stawać bardziej zdecydowany.\n",
    "- ADX powyżej 40: Silny trend, niezależnie od tego, czy jest to trend wzrostowy czy spadkowy.\n",
    "- ADX powyżej 50: Bardzo silny trend. Rynki w takim stanie zwykle szybko się poruszają.\n",
    "\n",
    "### Uwagi \n",
    "- Ze względu na występujące opóźnienia wskaźnik ten dobrze sprawdza się do wykrywania końca trendu."
   ]
  },
  {
   "cell_type": "code",
   "execution_count": 195,
   "metadata": {},
   "outputs": [],
   "source": [
    "# Import require libs\n",
    "import numpy as np\n",
    "import pandas as pd\n",
    "import matplotlib.pyplot as plt\n",
    "from scripts import  CompanyStockPriceScraper\n",
    "from scripts import ADXIndex\n",
    "from scipy.signal import find_peaks\n",
    "\n",
    "# Prepare require instances \n",
    "csp = CompanyStockPriceScraper()\n",
    "adx = ADXIndex()\n",
    "\n",
    "# Load reports database \n",
    "reports_db = pd.read_csv(\"../database/mergedData/Annual_V.csv\", index_col=[0])\n",
    "\n",
    "# Configuration fields\n",
    "STRONG_TRENDS_RANGE = 15 # +/- days from publication date\n",
    "STRONG_TRENDS_VALUE = 40 # Value ADX bigger than interpret as strong trends\n",
    "WEAK_TRENDS_VALUE   = 30 # Value ADX lower than interpret as weak trends\n",
    "FRAME_OFFSET = 15"
   ]
  },
  {
   "cell_type": "code",
   "execution_count": 196,
   "metadata": {},
   "outputs": [
    {
     "name": "stdout",
     "output_type": "stream",
     "text": [
      "N=1958\n",
      "I=294\n"
     ]
    }
   ],
   "source": [
    "ticker_list = reports_db[\"Ticker\"].unique()\n",
    "\n",
    "n = 0\n",
    "i = 0\n",
    "\n",
    "for ticker in ticker_list:\n",
    "    # Get stock value and calculate ADX\n",
    "    stock_price = csp.getHistoricalPrice(ticker)\n",
    "    adx_index = adx.cast_to_data_frame(adx.get_index(stock_price))\n",
    "    stock_data = pd.concat([stock_price, adx_index], axis=1, join=\"inner\")\n",
    "\n",
    "    # Get date of report publication\n",
    "    report_days = reports_db[reports_db[\"Ticker\"] == ticker][\"Data\"].to_numpy()\n",
    "    index_days  = np.trim_zeros([np.sum(stock_data.index < report_day) for report_day in report_days]) \n",
    "\n",
    "    # Analysis company \n",
    "    for index_day in index_days:\n",
    "        if any(stock_data[index_day : index_day+STRONG_TRENDS_RANGE+1][\"ADX\"] > STRONG_TRENDS_VALUE):\n",
    "            # Detect strong trends\n",
    "            peak_idx =  index_day + np.argmax(stock_data[index_day : index_day+STRONG_TRENDS_RANGE+FRAME_OFFSET+1][\"ADX\"] > STRONG_TRENDS_VALUE)\n",
    "            descent_end_idx = peak_idx + np.argmax(stock_data[peak_idx:][\"ADX\"] < WEAK_TRENDS_VALUE)\n",
    "            increase_start_idx = peak_idx - np.argmax(stock_data[:peak_idx+1][\"ADX\"][::-1] < WEAK_TRENDS_VALUE) \n",
    "            if index_day - FRAME_OFFSET < increase_start_idx:\n",
    "                i = i+1\n",
    "            \n",
    "        else:\n",
    "            # No detection strong trends\n",
    "            pass\n",
    "\n",
    "        n = n+1\n",
    "\n",
    "print(f\"N={n}\")\n",
    "print(f\"I={i}\")"
   ]
  },
  {
   "cell_type": "code",
   "execution_count": 62,
   "metadata": {},
   "outputs": [],
   "source": []
  },
  {
   "cell_type": "code",
   "execution_count": 89,
   "metadata": {},
   "outputs": [],
   "source": [
    "strong_trend_offset = np.argmax(stock_data[index_day : index_day+STRONG_TRENDS_RANGE+1][\"ADX\"] > STRONG_TRENDS_VALUE)"
   ]
  },
  {
   "cell_type": "code",
   "execution_count": null,
   "metadata": {},
   "outputs": [],
   "source": []
  },
  {
   "cell_type": "code",
   "execution_count": null,
   "metadata": {},
   "outputs": [],
   "source": []
  },
  {
   "cell_type": "code",
   "execution_count": 164,
   "metadata": {},
   "outputs": [],
   "source": [
    "first_peak_index = np.argmax(stock_data[index_day : index_day+STRONG_TRENDS_RANGE+1+PEAK_OFFSET][\"ADX\"] > STRONG_TRENDS_VALUE) + index_day\n",
    "down_slope = np.argmax(stock_data[first_peak_index:][\"ADX\"] < 30) + first_peak_index\n",
    "up_slope = first_peak_index - np.argmax(stock_data[:first_peak_index+1][\"ADX\"][::-1] < 30) "
   ]
  },
  {
   "cell_type": "code",
   "execution_count": 178,
   "metadata": {},
   "outputs": [
    {
     "data": {
      "text/plain": [
       "np.int64(21)"
      ]
     },
     "execution_count": 178,
     "metadata": {},
     "output_type": "execute_result"
    }
   ],
   "source": [
    "index_day - up_slope"
   ]
  }
 ],
 "metadata": {
  "kernelspec": {
   "display_name": "venv",
   "language": "python",
   "name": "python3"
  },
  "language_info": {
   "codemirror_mode": {
    "name": "ipython",
    "version": 3
   },
   "file_extension": ".py",
   "mimetype": "text/x-python",
   "name": "python",
   "nbconvert_exporter": "python",
   "pygments_lexer": "ipython3",
   "version": "3.12.3"
  }
 },
 "nbformat": 4,
 "nbformat_minor": 2
}
