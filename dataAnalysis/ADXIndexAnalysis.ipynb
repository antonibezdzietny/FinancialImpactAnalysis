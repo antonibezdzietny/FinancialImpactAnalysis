{
 "cells": [
  {
   "cell_type": "code",
   "execution_count": 1,
   "metadata": {},
   "outputs": [],
   "source": [
    "import numpy as np\n",
    "import pandas as pd\n",
    "import matplotlib.pyplot as plt\n",
    "from scripts import  CompanyStockPriceScraper\n",
    "from scripts import ADXIndex\n",
    "from scipy.signal import find_peaks"
   ]
  },
  {
   "cell_type": "markdown",
   "metadata": {},
   "source": [
    "## Select interesting examples\n",
    "\n",
    "Interesting examples are those where: \n",
    "- there is a peak in the ADX index close to the day of publication,\n",
    "- there is a low ADX index value over an extended period before and after the publication date. "
   ]
  },
  {
   "cell_type": "code",
   "execution_count": 2,
   "metadata": {},
   "outputs": [],
   "source": [
    "# Analysis company list \n",
    "tickers = [\"CCC\",\"CDL\",\"EAH\",\"HRP\",\"IPO\",\"LBW\",\"LPP\",\"MIR\",\"MON\",\"PRT\",\"SFG\",\"SNW\",\"WTN\"] # WIG_ODZIEZ\n",
    "ticker = \"PRT\""
   ]
  },
  {
   "cell_type": "code",
   "execution_count": 3,
   "metadata": {},
   "outputs": [],
   "source": [
    "# Scrap stock value and calculate ADX index\n",
    "csp = CompanyStockPriceScraper()\n",
    "adx = ADXIndex()\n",
    "stock_value = csp.getHistoricalPrice(ticker)\n",
    "adx_index = adx.cast_to_data_frame(adx.get_index(stock_value))\n",
    "stock_value = pd.concat([stock_value, adx_index], axis=1, join=\"inner\")"
   ]
  },
  {
   "cell_type": "code",
   "execution_count": 4,
   "metadata": {},
   "outputs": [],
   "source": [
    "# Get date of report publication\n",
    "report_database = pd.read_csv(\"../database/mergedData/Annual_V.csv\", index_col=[0])\n",
    "report_days = report_database[report_database[\"Ticker\"] == ticker][\"Data\"].to_numpy()"
   ]
  },
  {
   "cell_type": "code",
   "execution_count": 5,
   "metadata": {},
   "outputs": [],
   "source": [
    "# Find inner index day\n",
    "inner_index_day = np.array([np.sum(stock_value.index < report_day) for report_day in report_days])\n",
    "inner_index_day = inner_index_day[inner_index_day != 0]"
   ]
  },
  {
   "cell_type": "code",
   "execution_count": 6,
   "metadata": {},
   "outputs": [],
   "source": [
    "STRONG_TRENDS_RANGE = 10 # +/- days from publication date\n",
    "DETECT_TRENDS_VALUE = 40 # Value ADX bigger than interpret as strong trends"
   ]
  },
  {
   "cell_type": "code",
   "execution_count": 7,
   "metadata": {},
   "outputs": [
    {
     "name": "stdout",
     "output_type": "stream",
     "text": [
      "Important\n",
      "1\n",
      "-------\n",
      "Not Important\n",
      "-------\n",
      "Important\n",
      "6\n",
      "-------\n",
      "Not Important\n",
      "-------\n",
      "Important\n",
      "-13\n",
      "-------\n",
      "Important\n",
      "4\n",
      "-------\n",
      "Not Important\n",
      "-------\n",
      "Not Important\n",
      "-------\n",
      "Important\n",
      "-21\n",
      "-------\n",
      "Not Important\n",
      "-------\n",
      "Not Important\n",
      "-------\n",
      "Not Important\n",
      "-------\n",
      "Important\n",
      "-11\n",
      "-------\n",
      "Important\n",
      "6\n",
      "-------\n",
      "Important\n",
      "-1\n",
      "-------\n",
      "Not Important\n",
      "-------\n",
      "Not Important\n",
      "-------\n",
      "Not Important\n",
      "-------\n",
      "Not Important\n",
      "-------\n"
     ]
    }
   ],
   "source": [
    "# Check is in report publication day surroundings strong trends\n",
    "# Strong trends ADX > 40 if ADX periods = 14\n",
    "peak_threshold = stock_value[\"ADX\"].mean() + stock_value[\"ADX\"].std()\n",
    "\n",
    "for report_day_idx in inner_index_day:\n",
    "    if any(stock_value[report_day_idx-STRONG_TRENDS_RANGE:\n",
    "                       report_day_idx+STRONG_TRENDS_RANGE+1][\"ADX\"] > DETECT_TRENDS_VALUE):\n",
    "        \n",
    "        # Find distance date report - ADX peak \n",
    "        peaks_idx, _ = find_peaks(stock_value[\"ADX\"], height=DETECT_TRENDS_VALUE, distance=STRONG_TRENDS_RANGE)\n",
    "        distance = peaks_idx[np.abs(report_day_idx - peaks_idx).argmin()] - report_day_idx\n",
    "        print(\"Important\")\n",
    "        print(distance)\n",
    "        print(\"-------\")\n",
    "    else:\n",
    "        print(\"Not Important\")\n",
    "        print(\"-------\")\n",
    "        "
   ]
  },
  {
   "cell_type": "code",
   "execution_count": 8,
   "metadata": {},
   "outputs": [
    {
     "data": {
      "text/plain": [
       "{'ADX': 2000-12-29    28.035001\n",
       " 2001-01-01    28.035001\n",
       " 2001-01-02    29.475921\n",
       " 2001-01-03    30.196382\n",
       " 2001-01-04    31.510715\n",
       "                 ...    \n",
       " 2024-09-27    29.832362\n",
       " 2024-09-30    29.708389\n",
       " 2024-10-01    31.131382\n",
       " 2024-10-02    32.452732\n",
       " 2024-10-03    33.679700\n",
       " Name: ADX, Length: 6123, dtype: float64,\n",
       " '+DI': 2000-12-29    35.982499\n",
       " 2001-01-01    35.982499\n",
       " 2001-01-02    33.821119\n",
       " 2001-01-03    33.821119\n",
       " 2001-01-04    31.615976\n",
       "                 ...    \n",
       " 2024-09-27    13.931563\n",
       " 2024-09-30    13.252041\n",
       " 2024-10-01    10.951095\n",
       " 2024-10-02    10.233523\n",
       " 2024-10-03     9.629513\n",
       " Name: +DI, Length: 6123, dtype: float64,\n",
       " '-DI': 2000-12-29    64.017501\n",
       " 2001-01-01    64.017501\n",
       " 2001-01-02    66.178881\n",
       " 2001-01-03    66.178881\n",
       " 2001-01-04    68.384024\n",
       "                 ...    \n",
       " 2024-09-27    24.819290\n",
       " 2024-09-30    23.608711\n",
       " 2024-10-01    32.531761\n",
       " 2024-10-02    30.400113\n",
       " 2024-10-03    28.605815\n",
       " Name: -DI, Length: 6123, dtype: float64,\n",
       " 'Indexes': DatetimeIndex(['2000-12-29', '2001-01-01', '2001-01-02', '2001-01-03',\n",
       "                '2001-01-04', '2001-01-05', '2001-01-08', '2001-01-09',\n",
       "                '2001-01-10', '2001-01-11',\n",
       "                ...\n",
       "                '2024-09-20', '2024-09-23', '2024-09-24', '2024-09-25',\n",
       "                '2024-09-26', '2024-09-27', '2024-09-30', '2024-10-01',\n",
       "                '2024-10-02', '2024-10-03'],\n",
       "               dtype='datetime64[ns]', length=6123, freq=None)}"
      ]
     },
     "execution_count": 8,
     "metadata": {},
     "output_type": "execute_result"
    }
   ],
   "source": [
    "adx.data_frame_to_dict(stock_value)"
   ]
  }
 ],
 "metadata": {
  "kernelspec": {
   "display_name": "venv",
   "language": "python",
   "name": "python3"
  },
  "language_info": {
   "codemirror_mode": {
    "name": "ipython",
    "version": 3
   },
   "file_extension": ".py",
   "mimetype": "text/x-python",
   "name": "python",
   "nbconvert_exporter": "python",
   "pygments_lexer": "ipython3",
   "version": "3.12.3"
  }
 },
 "nbformat": 4,
 "nbformat_minor": 2
}
