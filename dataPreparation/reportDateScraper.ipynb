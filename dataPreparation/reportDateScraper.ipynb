{
 "cells": [
  {
   "cell_type": "markdown",
   "metadata": {
    "vscode": {
     "languageId": "plaintext"
    }
   },
   "source": [
    "## Date of publication\n",
    "---\n",
    "\n",
    "Publication date coming from https://biznes.pap.pl"
   ]
  },
  {
   "cell_type": "markdown",
   "metadata": {
    "vscode": {
     "languageId": "plaintext"
    }
   },
   "source": [
    "### Scrape data from website"
   ]
  },
  {
   "cell_type": "code",
   "execution_count": 8,
   "metadata": {},
   "outputs": [],
   "source": [
    "from scripts import *\n",
    "import numpy as np\n",
    "\n",
    "di = DateIter(np.datetime64(\"2014-08-25\"),\n",
    "              np.datetime64(\"2024-08-26\"))\n",
    "date_db = DateFinanceReportDB()\n",
    "ds = DateFinanceReportScraper(di, date_db)\n",
    "ds.scrapDates()\n",
    "date_db.saveDatabase(\"../database/dateDB\") # Uncomment if u want to save "
   ]
  },
  {
   "cell_type": "markdown",
   "metadata": {},
   "source": [
    "### Read from file"
   ]
  },
  {
   "cell_type": "code",
   "execution_count": null,
   "metadata": {},
   "outputs": [],
   "source": [
    "from scripts import DateFinanceReportDB\n",
    "\n",
    "date_db = DateFinanceReportDB()\n",
    "date_db.loadDatabase(\"../database/dateDB\")"
   ]
  }
 ],
 "metadata": {
  "kernelspec": {
   "display_name": "venv",
   "language": "python",
   "name": "python3"
  },
  "language_info": {
   "codemirror_mode": {
    "name": "ipython",
    "version": 3
   },
   "file_extension": ".py",
   "mimetype": "text/x-python",
   "name": "python",
   "nbconvert_exporter": "python",
   "pygments_lexer": "ipython3",
   "version": "3.10.12"
  }
 },
 "nbformat": 4,
 "nbformat_minor": 2
}
