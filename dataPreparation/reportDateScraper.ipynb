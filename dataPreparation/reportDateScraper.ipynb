{
 "cells": [
  {
   "cell_type": "markdown",
   "metadata": {
    "vscode": {
     "languageId": "plaintext"
    }
   },
   "source": [
    "## Date of publication\n",
    "---\n",
    "\n",
    "Publication date coming from https://biznes.pap.pl"
   ]
  },
  {
   "cell_type": "markdown",
   "metadata": {
    "vscode": {
     "languageId": "plaintext"
    }
   },
   "source": [
    "### Scrape data from website"
   ]
  },
  {
   "cell_type": "code",
   "execution_count": 1,
   "metadata": {},
   "outputs": [
    {
     "ename": "NameError",
     "evalue": "name 'DateIter' is not defined",
     "output_type": "error",
     "traceback": [
      "\u001b[0;31m---------------------------------------------------------------------------\u001b[0m",
      "\u001b[0;31mNameError\u001b[0m                                 Traceback (most recent call last)",
      "Cell \u001b[0;32mIn[1], line 3\u001b[0m\n\u001b[1;32m      1\u001b[0m \u001b[38;5;28;01mfrom\u001b[39;00m \u001b[38;5;21;01mscripts\u001b[39;00m \u001b[38;5;28;01mimport\u001b[39;00m \u001b[38;5;241m*\u001b[39m\n\u001b[0;32m----> 3\u001b[0m di \u001b[38;5;241m=\u001b[39m \u001b[43mDateIter\u001b[49m()\n\u001b[1;32m      4\u001b[0m di\u001b[38;5;241m.\u001b[39msetLimits(\u001b[38;5;241m31\u001b[39m,\u001b[38;5;241m12\u001b[39m,\u001b[38;5;241m2024\u001b[39m, \u001b[38;5;66;03m# Up limit\u001b[39;00m\n\u001b[1;32m      5\u001b[0m              \u001b[38;5;241m1\u001b[39m,\u001b[38;5;241m1\u001b[39m,\u001b[38;5;241m2004\u001b[39m)    \u001b[38;5;66;03m# Down limit\u001b[39;00m\n\u001b[1;32m      6\u001b[0m date_db \u001b[38;5;241m=\u001b[39m DateFinanceReportDB()\n",
      "\u001b[0;31mNameError\u001b[0m: name 'DateIter' is not defined"
     ]
    }
   ],
   "source": [
    "from scripts import *\n",
    "\n",
    "di = DateIter()\n",
    "di.setLimits(31,12,2024, # Up limit\n",
    "             1,1,2004)    # Down limit\n",
    "date_db = DateFinanceReportDB()\n",
    "ds = DateFinanceReportScraper(di, date_db)\n",
    "ds.scrapDates()\n",
    "#date_db.saveDatabase(\"../database/dateDB\") # Uncomment if u want to save "
   ]
  }
 ],
 "metadata": {
  "kernelspec": {
   "display_name": "venv",
   "language": "python",
   "name": "python3"
  },
  "language_info": {
   "codemirror_mode": {
    "name": "ipython",
    "version": 3
   },
   "file_extension": ".py",
   "mimetype": "text/x-python",
   "name": "python",
   "nbconvert_exporter": "python",
   "pygments_lexer": "ipython3",
   "version": "3.10.12"
  }
 },
 "nbformat": 4,
 "nbformat_minor": 2
}
